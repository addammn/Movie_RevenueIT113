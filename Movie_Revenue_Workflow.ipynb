{
  "cells": [
    {
      "cell_type": "markdown",
      "id": "9f94ccf8",
      "metadata": {
        "id": "9f94ccf8"
      },
      "source": [
        "# Movie Revenue – Colab Workflow (All-in-One)\n",
        "This notebook runs fully in **Google Colab**.\n",
        "\n",
        "**What it does**\n",
        "1. Mounts Google Drive\n",
        "2. Uses your Drive folder: `Movie_RevenueIT113`\n",
        "3. Installs requirements\n",
        "4. Loads `tmdb_movies.csv`\n",
        "5. Trains Linear Regression (baseline) and RandomForest\n",
        "6. Saves best model to `artifacts/model.pkl` and `artifacts/metrics.json`\n",
        "7. Copies artifacts back to Drive so your teammate can deploy\n",
        "\n",
        "> Edit the folder/file names below if yours are different.\n"
      ]
    },
    {
      "cell_type": "code",
      "execution_count": 2,
      "id": "484bd794",
      "metadata": {
        "colab": {
          "base_uri": "https://localhost:8080/"
        },
        "id": "484bd794",
        "outputId": "a8310699-18fe-4c0d-eacf-704abc19d6de"
      },
      "outputs": [
        {
          "output_type": "stream",
          "name": "stdout",
          "text": [
            "Mounted at /content/drive\n"
          ]
        }
      ],
      "source": [
        "# ========== 1) Mount Drive ==========\n",
        "from google.colab import drive\n",
        "drive.mount('/content/drive')"
      ]
    },
    {
      "cell_type": "code",
      "execution_count": 3,
      "id": "1465269b",
      "metadata": {
        "colab": {
          "base_uri": "https://localhost:8080/"
        },
        "id": "1465269b",
        "outputId": "777e7bd9-8e08-4db9-fd36-9844fc99c1bc"
      },
      "outputs": [
        {
          "output_type": "stream",
          "name": "stdout",
          "text": [
            "Drive project: /content/drive/MyDrive/Movie_RevenueIT113\n",
            "CSV path: /content/drive/MyDrive/Movie_RevenueIT113/tmdb_movies.csv\n",
            "Colab working root: /content/movie_revenue_project\n"
          ]
        }
      ],
      "source": [
        "# ========== 2) Project paths  ==========\n",
        "DRIVE_PROJECT = \"/content/drive/MyDrive/Movie_RevenueIT113\"\n",
        "CSV_ON_DRIVE  = f\"{DRIVE_PROJECT}/tmdb_movies.csv\"\n",
        "COLAB_ROOT    = \"/content/movie_revenue_project\"\n",
        "\n",
        "print(\"Drive project:\", DRIVE_PROJECT)\n",
        "print(\"CSV path:\", CSV_ON_DRIVE)\n",
        "print(\"Colab working root:\", COLAB_ROOT)"
      ]
    },
    {
      "cell_type": "code",
      "execution_count": 4,
      "id": "75ece08c",
      "metadata": {
        "colab": {
          "base_uri": "https://localhost:8080/"
        },
        "id": "75ece08c",
        "outputId": "a65cfe7d-ab8d-4411-b2e0-d9e104e1f12a"
      },
      "outputs": [
        {
          "output_type": "stream",
          "name": "stdout",
          "text": [
            "/content/movie_revenue_project\n",
            "\u001b[2K     \u001b[90m━━━━━━━━━━━━━━━━━━━━━━━━━━━━━━━━━━━━━━━━\u001b[0m \u001b[32m44.3/44.3 kB\u001b[0m \u001b[31m3.0 MB/s\u001b[0m eta \u001b[36m0:00:00\u001b[0m\n",
            "\u001b[2K   \u001b[90m━━━━━━━━━━━━━━━━━━━━━━━━━━━━━━━━━━━━━━━━\u001b[0m \u001b[32m9.9/9.9 MB\u001b[0m \u001b[31m80.0 MB/s\u001b[0m eta \u001b[36m0:00:00\u001b[0m\n",
            "\u001b[2K   \u001b[90m━━━━━━━━━━━━━━━━━━━━━━━━━━━━━━━━━━━━━━━━\u001b[0m \u001b[32m6.9/6.9 MB\u001b[0m \u001b[31m90.5 MB/s\u001b[0m eta \u001b[36m0:00:00\u001b[0m\n",
            "\u001b[2K   \u001b[90m━━━━━━━━━━━━━━━━━━━━━━━━━━━━━━━━━━━━━━━━\u001b[0m \u001b[32m79.1/79.1 kB\u001b[0m \u001b[31m5.2 MB/s\u001b[0m eta \u001b[36m0:00:00\u001b[0m\n",
            "\u001b[2K   \u001b[90m━━━━━━━━━━━━━━━━━━━━━━━━━━━━━━━━━━━━━━━━\u001b[0m \u001b[32m12.3/12.3 MB\u001b[0m \u001b[31m85.5 MB/s\u001b[0m eta \u001b[36m0:00:00\u001b[0m\n",
            "\u001b[2K   \u001b[90m━━━━━━━━━━━━━━━━━━━━━━━━━━━━━━━━━━━━━━━━\u001b[0m \u001b[32m69.4/69.4 kB\u001b[0m \u001b[31m5.1 MB/s\u001b[0m eta \u001b[36m0:00:00\u001b[0m\n",
            "\u001b[2K   \u001b[90m━━━━━━━━━━━━━━━━━━━━━━━━━━━━━━━━━━━━━━━━\u001b[0m \u001b[32m386.9/386.9 kB\u001b[0m \u001b[31m25.3 MB/s\u001b[0m eta \u001b[36m0:00:00\u001b[0m\n",
            "\u001b[2K   \u001b[90m━━━━━━━━━━━━━━━━━━━━━━━━━━━━━━━━━━━━━━━━\u001b[0m \u001b[32m133.5/133.5 kB\u001b[0m \u001b[31m10.9 MB/s\u001b[0m eta \u001b[36m0:00:00\u001b[0m\n",
            "\u001b[2K   \u001b[90m━━━━━━━━━━━━━━━━━━━━━━━━━━━━━━━━━━━━━━━━\u001b[0m \u001b[32m59.7/59.7 kB\u001b[0m \u001b[31m5.3 MB/s\u001b[0m eta \u001b[36m0:00:00\u001b[0m\n",
            "\u001b[2K   \u001b[90m━━━━━━━━━━━━━━━━━━━━━━━━━━━━━━━━━━━━━━━━\u001b[0m \u001b[32m1.6/1.6 MB\u001b[0m \u001b[31m65.0 MB/s\u001b[0m eta \u001b[36m0:00:00\u001b[0m\n",
            "\u001b[2K   \u001b[90m━━━━━━━━━━━━━━━━━━━━━━━━━━━━━━━━━━━━━━━━\u001b[0m \u001b[32m66.4/66.4 kB\u001b[0m \u001b[31m4.8 MB/s\u001b[0m eta \u001b[36m0:00:00\u001b[0m\n",
            "\u001b[2K   \u001b[90m━━━━━━━━━━━━━━━━━━━━━━━━━━━━━━━━━━━━━━━━\u001b[0m \u001b[32m111.0/111.0 kB\u001b[0m \u001b[31m9.7 MB/s\u001b[0m eta \u001b[36m0:00:00\u001b[0m\n",
            "\u001b[?25h\u001b[31mERROR: pip's dependency resolver does not currently take into account all the packages that are installed. This behaviour is the source of the following dependency conflicts.\n",
            "google-colab 1.0.0 requires jupyter-server==1.16.0, but you have jupyter-server 2.16.0 which is incompatible.\u001b[0m\u001b[31m\n",
            "\u001b[0mWorking dir: /content/movie_revenue_project\n",
            "Files: ['requirements.txt']\n"
          ]
        }
      ],
      "source": [
        "# ========== 3) Prepare working folder & install requirements ==========\n",
        "import os, shutil, textwrap, json, joblib, numpy as np, pandas as pd\n",
        "from pathlib import Path\n",
        "\n",
        "\n",
        "# If you already manually placed files (requirements.txt, app/, notebooks/), you can skip unzip.\n",
        "if not os.path.exists(COLAB_ROOT):\n",
        "    os.makedirs(COLAB_ROOT, exist_ok=True)\n",
        "\n",
        "# Copy requirements.txt from Drive if present; otherwise, create a minimal one\n",
        "req_drive = f\"{DRIVE_PROJECT}/requirements.txt\"\n",
        "req_local = f\"{COLAB_ROOT}/requirements.txt\"\n",
        "\n",
        "if os.path.exists(req_drive):\n",
        "    shutil.copy(req_drive, req_local)\n",
        "else:\n",
        "    with open(req_local, \"w\") as f:\n",
        "        f.write(\"pandas\\nnumpy\\nscikit-learn==1.5.1\\njoblib\\n\")\n",
        "\n",
        "# Install\n",
        "%cd $COLAB_ROOT\n",
        "!pip install -q -r requirements.txt\n",
        "\n",
        "print(\"Working dir:\", os.getcwd())\n",
        "print(\"Files:\", os.listdir())"
      ]
    },
    {
      "cell_type": "code",
      "execution_count": 5,
      "id": "eaf26889",
      "metadata": {
        "colab": {
          "base_uri": "https://localhost:8080/",
          "height": 160
        },
        "id": "eaf26889",
        "outputId": "98bb340f-9a86-41d7-d186-7fa943dd3c55"
      },
      "outputs": [
        {
          "output_type": "stream",
          "name": "stdout",
          "text": [
            "Loaded rows: 3\n"
          ]
        },
        {
          "output_type": "execute_result",
          "data": {
            "text/plain": [
              "     budget  runtime  popularity  vote_average  vote_count  release_year  \\\n",
              "0   1000000       95        10.5           6.5         120          2015   \n",
              "1  50000000      120        45.3           7.8        5400          2019   \n",
              "2  12000000      105        20.1           5.9         320          2021   \n",
              "\n",
              "   cast_count main_genre production_company_t1    revenue  \n",
              "0           8     Action        Marvel Studios    5000000  \n",
              "1          15      Drama           Warner Bros  200000000  \n",
              "2          10     Comedy            Indie Prod   30000000  "
            ],
            "text/html": [
              "\n",
              "  <div id=\"df-34a294ee-51cf-415d-a600-251eaccad7dd\" class=\"colab-df-container\">\n",
              "    <div>\n",
              "<style scoped>\n",
              "    .dataframe tbody tr th:only-of-type {\n",
              "        vertical-align: middle;\n",
              "    }\n",
              "\n",
              "    .dataframe tbody tr th {\n",
              "        vertical-align: top;\n",
              "    }\n",
              "\n",
              "    .dataframe thead th {\n",
              "        text-align: right;\n",
              "    }\n",
              "</style>\n",
              "<table border=\"1\" class=\"dataframe\">\n",
              "  <thead>\n",
              "    <tr style=\"text-align: right;\">\n",
              "      <th></th>\n",
              "      <th>budget</th>\n",
              "      <th>runtime</th>\n",
              "      <th>popularity</th>\n",
              "      <th>vote_average</th>\n",
              "      <th>vote_count</th>\n",
              "      <th>release_year</th>\n",
              "      <th>cast_count</th>\n",
              "      <th>main_genre</th>\n",
              "      <th>production_company_t1</th>\n",
              "      <th>revenue</th>\n",
              "    </tr>\n",
              "  </thead>\n",
              "  <tbody>\n",
              "    <tr>\n",
              "      <th>0</th>\n",
              "      <td>1000000</td>\n",
              "      <td>95</td>\n",
              "      <td>10.5</td>\n",
              "      <td>6.5</td>\n",
              "      <td>120</td>\n",
              "      <td>2015</td>\n",
              "      <td>8</td>\n",
              "      <td>Action</td>\n",
              "      <td>Marvel Studios</td>\n",
              "      <td>5000000</td>\n",
              "    </tr>\n",
              "    <tr>\n",
              "      <th>1</th>\n",
              "      <td>50000000</td>\n",
              "      <td>120</td>\n",
              "      <td>45.3</td>\n",
              "      <td>7.8</td>\n",
              "      <td>5400</td>\n",
              "      <td>2019</td>\n",
              "      <td>15</td>\n",
              "      <td>Drama</td>\n",
              "      <td>Warner Bros</td>\n",
              "      <td>200000000</td>\n",
              "    </tr>\n",
              "    <tr>\n",
              "      <th>2</th>\n",
              "      <td>12000000</td>\n",
              "      <td>105</td>\n",
              "      <td>20.1</td>\n",
              "      <td>5.9</td>\n",
              "      <td>320</td>\n",
              "      <td>2021</td>\n",
              "      <td>10</td>\n",
              "      <td>Comedy</td>\n",
              "      <td>Indie Prod</td>\n",
              "      <td>30000000</td>\n",
              "    </tr>\n",
              "  </tbody>\n",
              "</table>\n",
              "</div>\n",
              "    <div class=\"colab-df-buttons\">\n",
              "\n",
              "  <div class=\"colab-df-container\">\n",
              "    <button class=\"colab-df-convert\" onclick=\"convertToInteractive('df-34a294ee-51cf-415d-a600-251eaccad7dd')\"\n",
              "            title=\"Convert this dataframe to an interactive table.\"\n",
              "            style=\"display:none;\">\n",
              "\n",
              "  <svg xmlns=\"http://www.w3.org/2000/svg\" height=\"24px\" viewBox=\"0 -960 960 960\">\n",
              "    <path d=\"M120-120v-720h720v720H120Zm60-500h600v-160H180v160Zm220 220h160v-160H400v160Zm0 220h160v-160H400v160ZM180-400h160v-160H180v160Zm440 0h160v-160H620v160ZM180-180h160v-160H180v160Zm440 0h160v-160H620v160Z\"/>\n",
              "  </svg>\n",
              "    </button>\n",
              "\n",
              "  <style>\n",
              "    .colab-df-container {\n",
              "      display:flex;\n",
              "      gap: 12px;\n",
              "    }\n",
              "\n",
              "    .colab-df-convert {\n",
              "      background-color: #E8F0FE;\n",
              "      border: none;\n",
              "      border-radius: 50%;\n",
              "      cursor: pointer;\n",
              "      display: none;\n",
              "      fill: #1967D2;\n",
              "      height: 32px;\n",
              "      padding: 0 0 0 0;\n",
              "      width: 32px;\n",
              "    }\n",
              "\n",
              "    .colab-df-convert:hover {\n",
              "      background-color: #E2EBFA;\n",
              "      box-shadow: 0px 1px 2px rgba(60, 64, 67, 0.3), 0px 1px 3px 1px rgba(60, 64, 67, 0.15);\n",
              "      fill: #174EA6;\n",
              "    }\n",
              "\n",
              "    .colab-df-buttons div {\n",
              "      margin-bottom: 4px;\n",
              "    }\n",
              "\n",
              "    [theme=dark] .colab-df-convert {\n",
              "      background-color: #3B4455;\n",
              "      fill: #D2E3FC;\n",
              "    }\n",
              "\n",
              "    [theme=dark] .colab-df-convert:hover {\n",
              "      background-color: #434B5C;\n",
              "      box-shadow: 0px 1px 3px 1px rgba(0, 0, 0, 0.15);\n",
              "      filter: drop-shadow(0px 1px 2px rgba(0, 0, 0, 0.3));\n",
              "      fill: #FFFFFF;\n",
              "    }\n",
              "  </style>\n",
              "\n",
              "    <script>\n",
              "      const buttonEl =\n",
              "        document.querySelector('#df-34a294ee-51cf-415d-a600-251eaccad7dd button.colab-df-convert');\n",
              "      buttonEl.style.display =\n",
              "        google.colab.kernel.accessAllowed ? 'block' : 'none';\n",
              "\n",
              "      async function convertToInteractive(key) {\n",
              "        const element = document.querySelector('#df-34a294ee-51cf-415d-a600-251eaccad7dd');\n",
              "        const dataTable =\n",
              "          await google.colab.kernel.invokeFunction('convertToInteractive',\n",
              "                                                    [key], {});\n",
              "        if (!dataTable) return;\n",
              "\n",
              "        const docLinkHtml = 'Like what you see? Visit the ' +\n",
              "          '<a target=\"_blank\" href=https://colab.research.google.com/notebooks/data_table.ipynb>data table notebook</a>'\n",
              "          + ' to learn more about interactive tables.';\n",
              "        element.innerHTML = '';\n",
              "        dataTable['output_type'] = 'display_data';\n",
              "        await google.colab.output.renderOutput(dataTable, element);\n",
              "        const docLink = document.createElement('div');\n",
              "        docLink.innerHTML = docLinkHtml;\n",
              "        element.appendChild(docLink);\n",
              "      }\n",
              "    </script>\n",
              "  </div>\n",
              "\n",
              "\n",
              "    <div id=\"df-3c34e52a-3211-4a76-87c2-1a84634862c1\">\n",
              "      <button class=\"colab-df-quickchart\" onclick=\"quickchart('df-3c34e52a-3211-4a76-87c2-1a84634862c1')\"\n",
              "                title=\"Suggest charts\"\n",
              "                style=\"display:none;\">\n",
              "\n",
              "<svg xmlns=\"http://www.w3.org/2000/svg\" height=\"24px\"viewBox=\"0 0 24 24\"\n",
              "     width=\"24px\">\n",
              "    <g>\n",
              "        <path d=\"M19 3H5c-1.1 0-2 .9-2 2v14c0 1.1.9 2 2 2h14c1.1 0 2-.9 2-2V5c0-1.1-.9-2-2-2zM9 17H7v-7h2v7zm4 0h-2V7h2v10zm4 0h-2v-4h2v4z\"/>\n",
              "    </g>\n",
              "</svg>\n",
              "      </button>\n",
              "\n",
              "<style>\n",
              "  .colab-df-quickchart {\n",
              "      --bg-color: #E8F0FE;\n",
              "      --fill-color: #1967D2;\n",
              "      --hover-bg-color: #E2EBFA;\n",
              "      --hover-fill-color: #174EA6;\n",
              "      --disabled-fill-color: #AAA;\n",
              "      --disabled-bg-color: #DDD;\n",
              "  }\n",
              "\n",
              "  [theme=dark] .colab-df-quickchart {\n",
              "      --bg-color: #3B4455;\n",
              "      --fill-color: #D2E3FC;\n",
              "      --hover-bg-color: #434B5C;\n",
              "      --hover-fill-color: #FFFFFF;\n",
              "      --disabled-bg-color: #3B4455;\n",
              "      --disabled-fill-color: #666;\n",
              "  }\n",
              "\n",
              "  .colab-df-quickchart {\n",
              "    background-color: var(--bg-color);\n",
              "    border: none;\n",
              "    border-radius: 50%;\n",
              "    cursor: pointer;\n",
              "    display: none;\n",
              "    fill: var(--fill-color);\n",
              "    height: 32px;\n",
              "    padding: 0;\n",
              "    width: 32px;\n",
              "  }\n",
              "\n",
              "  .colab-df-quickchart:hover {\n",
              "    background-color: var(--hover-bg-color);\n",
              "    box-shadow: 0 1px 2px rgba(60, 64, 67, 0.3), 0 1px 3px 1px rgba(60, 64, 67, 0.15);\n",
              "    fill: var(--button-hover-fill-color);\n",
              "  }\n",
              "\n",
              "  .colab-df-quickchart-complete:disabled,\n",
              "  .colab-df-quickchart-complete:disabled:hover {\n",
              "    background-color: var(--disabled-bg-color);\n",
              "    fill: var(--disabled-fill-color);\n",
              "    box-shadow: none;\n",
              "  }\n",
              "\n",
              "  .colab-df-spinner {\n",
              "    border: 2px solid var(--fill-color);\n",
              "    border-color: transparent;\n",
              "    border-bottom-color: var(--fill-color);\n",
              "    animation:\n",
              "      spin 1s steps(1) infinite;\n",
              "  }\n",
              "\n",
              "  @keyframes spin {\n",
              "    0% {\n",
              "      border-color: transparent;\n",
              "      border-bottom-color: var(--fill-color);\n",
              "      border-left-color: var(--fill-color);\n",
              "    }\n",
              "    20% {\n",
              "      border-color: transparent;\n",
              "      border-left-color: var(--fill-color);\n",
              "      border-top-color: var(--fill-color);\n",
              "    }\n",
              "    30% {\n",
              "      border-color: transparent;\n",
              "      border-left-color: var(--fill-color);\n",
              "      border-top-color: var(--fill-color);\n",
              "      border-right-color: var(--fill-color);\n",
              "    }\n",
              "    40% {\n",
              "      border-color: transparent;\n",
              "      border-right-color: var(--fill-color);\n",
              "      border-top-color: var(--fill-color);\n",
              "    }\n",
              "    60% {\n",
              "      border-color: transparent;\n",
              "      border-right-color: var(--fill-color);\n",
              "    }\n",
              "    80% {\n",
              "      border-color: transparent;\n",
              "      border-right-color: var(--fill-color);\n",
              "      border-bottom-color: var(--fill-color);\n",
              "    }\n",
              "    90% {\n",
              "      border-color: transparent;\n",
              "      border-bottom-color: var(--fill-color);\n",
              "    }\n",
              "  }\n",
              "</style>\n",
              "\n",
              "      <script>\n",
              "        async function quickchart(key) {\n",
              "          const quickchartButtonEl =\n",
              "            document.querySelector('#' + key + ' button');\n",
              "          quickchartButtonEl.disabled = true;  // To prevent multiple clicks.\n",
              "          quickchartButtonEl.classList.add('colab-df-spinner');\n",
              "          try {\n",
              "            const charts = await google.colab.kernel.invokeFunction(\n",
              "                'suggestCharts', [key], {});\n",
              "          } catch (error) {\n",
              "            console.error('Error during call to suggestCharts:', error);\n",
              "          }\n",
              "          quickchartButtonEl.classList.remove('colab-df-spinner');\n",
              "          quickchartButtonEl.classList.add('colab-df-quickchart-complete');\n",
              "        }\n",
              "        (() => {\n",
              "          let quickchartButtonEl =\n",
              "            document.querySelector('#df-3c34e52a-3211-4a76-87c2-1a84634862c1 button');\n",
              "          quickchartButtonEl.style.display =\n",
              "            google.colab.kernel.accessAllowed ? 'block' : 'none';\n",
              "        })();\n",
              "      </script>\n",
              "    </div>\n",
              "\n",
              "    </div>\n",
              "  </div>\n"
            ],
            "application/vnd.google.colaboratory.intrinsic+json": {
              "type": "dataframe",
              "variable_name": "df",
              "summary": "{\n  \"name\": \"df\",\n  \"rows\": 3,\n  \"fields\": [\n    {\n      \"column\": \"budget\",\n      \"properties\": {\n        \"dtype\": \"number\",\n        \"std\": 25709920,\n        \"min\": 1000000,\n        \"max\": 50000000,\n        \"num_unique_values\": 3,\n        \"samples\": [\n          1000000,\n          50000000,\n          12000000\n        ],\n        \"semantic_type\": \"\",\n        \"description\": \"\"\n      }\n    },\n    {\n      \"column\": \"runtime\",\n      \"properties\": {\n        \"dtype\": \"number\",\n        \"std\": 12,\n        \"min\": 95,\n        \"max\": 120,\n        \"num_unique_values\": 3,\n        \"samples\": [\n          95,\n          120,\n          105\n        ],\n        \"semantic_type\": \"\",\n        \"description\": \"\"\n      }\n    },\n    {\n      \"column\": \"popularity\",\n      \"properties\": {\n        \"dtype\": \"number\",\n        \"std\": 17.973313550928776,\n        \"min\": 10.5,\n        \"max\": 45.3,\n        \"num_unique_values\": 3,\n        \"samples\": [\n          10.5,\n          45.3,\n          20.1\n        ],\n        \"semantic_type\": \"\",\n        \"description\": \"\"\n      }\n    },\n    {\n      \"column\": \"vote_average\",\n      \"properties\": {\n        \"dtype\": \"number\",\n        \"std\": 0.9712534856222308,\n        \"min\": 5.9,\n        \"max\": 7.8,\n        \"num_unique_values\": 3,\n        \"samples\": [\n          6.5,\n          7.8,\n          5.9\n        ],\n        \"semantic_type\": \"\",\n        \"description\": \"\"\n      }\n    },\n    {\n      \"column\": \"vote_count\",\n      \"properties\": {\n        \"dtype\": \"number\",\n        \"std\": 2992,\n        \"min\": 120,\n        \"max\": 5400,\n        \"num_unique_values\": 3,\n        \"samples\": [\n          120,\n          5400,\n          320\n        ],\n        \"semantic_type\": \"\",\n        \"description\": \"\"\n      }\n    },\n    {\n      \"column\": \"release_year\",\n      \"properties\": {\n        \"dtype\": \"number\",\n        \"std\": 3,\n        \"min\": 2015,\n        \"max\": 2021,\n        \"num_unique_values\": 3,\n        \"samples\": [\n          2015,\n          2019,\n          2021\n        ],\n        \"semantic_type\": \"\",\n        \"description\": \"\"\n      }\n    },\n    {\n      \"column\": \"cast_count\",\n      \"properties\": {\n        \"dtype\": \"number\",\n        \"std\": 3,\n        \"min\": 8,\n        \"max\": 15,\n        \"num_unique_values\": 3,\n        \"samples\": [\n          8,\n          15,\n          10\n        ],\n        \"semantic_type\": \"\",\n        \"description\": \"\"\n      }\n    },\n    {\n      \"column\": \"main_genre\",\n      \"properties\": {\n        \"dtype\": \"string\",\n        \"num_unique_values\": 3,\n        \"samples\": [\n          \"Action\",\n          \"Drama\",\n          \"Comedy\"\n        ],\n        \"semantic_type\": \"\",\n        \"description\": \"\"\n      }\n    },\n    {\n      \"column\": \"production_company_t1\",\n      \"properties\": {\n        \"dtype\": \"string\",\n        \"num_unique_values\": 3,\n        \"samples\": [\n          \"Marvel Studios\",\n          \"Warner Bros\",\n          \"Indie Prod\"\n        ],\n        \"semantic_type\": \"\",\n        \"description\": \"\"\n      }\n    },\n    {\n      \"column\": \"revenue\",\n      \"properties\": {\n        \"dtype\": \"number\",\n        \"std\": 106105293,\n        \"min\": 5000000,\n        \"max\": 200000000,\n        \"num_unique_values\": 3,\n        \"samples\": [\n          5000000,\n          200000000,\n          30000000\n        ],\n        \"semantic_type\": \"\",\n        \"description\": \"\"\n      }\n    }\n  ]\n}"
            }
          },
          "metadata": {},
          "execution_count": 5
        }
      ],
      "source": [
        "# ========== 4) Place CSV into project structure ==========\n",
        "data_dir = Path(\"data/processed\")\n",
        "data_dir.mkdir(parents=True, exist_ok=True)\n",
        "\n",
        "assert os.path.exists(CSV_ON_DRIVE), f\"CSV not found on Drive: {CSV_ON_DRIVE}\"\n",
        "shutil.copy(CSV_ON_DRIVE, data_dir/\"tmdb_movies.csv\")\n",
        "\n",
        "import pandas as pd\n",
        "df = pd.read_csv(data_dir/\"tmdb_movies.csv\")\n",
        "print(\"Loaded rows:\", len(df))\n",
        "df.head()"
      ]
    },
    {
      "cell_type": "code",
      "execution_count": 6,
      "id": "3339c87a",
      "metadata": {
        "colab": {
          "base_uri": "https://localhost:8080/"
        },
        "id": "3339c87a",
        "outputId": "278f58d7-85c0-4378-f50b-d2376b70f515"
      },
      "outputs": [
        {
          "output_type": "stream",
          "name": "stderr",
          "text": [
            "/usr/local/lib/python3.11/dist-packages/sklearn/metrics/_regression.py:1266: UndefinedMetricWarning: R^2 score is not well-defined with less than two samples.\n",
            "  warnings.warn(msg, UndefinedMetricWarning)\n",
            "/usr/local/lib/python3.11/dist-packages/sklearn/metrics/_regression.py:1266: UndefinedMetricWarning: R^2 score is not well-defined with less than two samples.\n",
            "  warnings.warn(msg, UndefinedMetricWarning)\n"
          ]
        },
        {
          "output_type": "execute_result",
          "data": {
            "text/plain": [
              "({'rmse': 68335691.59118266, 'mae': 68335691.59118266, 'r2': nan},\n",
              " {'rmse': 96400000.0, 'mae': 96400000.0, 'r2': nan})"
            ]
          },
          "metadata": {},
          "execution_count": 6
        }
      ],
      "source": [
        "# ========== 5) Train two models (baseline & RF) and choose best by RMSE ==========\n",
        "from sklearn.model_selection import train_test_split\n",
        "from sklearn.compose import ColumnTransformer\n",
        "from sklearn.preprocessing import OneHotEncoder, StandardScaler\n",
        "from sklearn.pipeline import Pipeline\n",
        "from sklearn.linear_model import LinearRegression\n",
        "from sklearn.ensemble import RandomForestRegressor\n",
        "from sklearn.metrics import mean_absolute_error, mean_squared_error, r2_score\n",
        "\n",
        "target = \"revenue\"\n",
        "num_feats = [\"budget\",\"runtime\",\"popularity\",\"vote_average\",\"vote_count\",\"release_year\",\"cast_count\"]\n",
        "cat_feats = [\"main_genre\",\"production_company_t1\"]\n",
        "\n",
        "X = df[num_feats + cat_feats].copy()\n",
        "y = df[target].astype(float)\n",
        "\n",
        "X_train, X_test, y_train, y_test = train_test_split(X, y, test_size=0.2, random_state=42)\n",
        "\n",
        "pre = ColumnTransformer([\n",
        "    (\"num\", StandardScaler(), num_feats),\n",
        "    (\"cat\", OneHotEncoder(handle_unknown=\"ignore\", sparse_output=False), cat_feats)\n",
        "])\n",
        "\n",
        "def score_model(model):\n",
        "    pred = model.predict(X_test)\n",
        "    rmse = float(np.sqrt(mean_squared_error(y_test, pred)))\n",
        "    mae  = float(mean_absolute_error(y_test, pred))\n",
        "    r2   = float(r2_score(y_test, pred))\n",
        "    return {\"rmse\": rmse, \"mae\": mae, \"r2\": r2}\n",
        "\n",
        "# Baseline\n",
        "lin = Pipeline([(\"pre\", pre), (\"est\", LinearRegression())]).fit(X_train, y_train)\n",
        "m_lin = score_model(lin)\n",
        "\n",
        "# Random Forest quick\n",
        "rf = Pipeline([(\"pre\", pre), (\"est\", RandomForestRegressor(n_estimators=300, random_state=42, n_jobs=-1))]).fit(X_train, y_train)\n",
        "m_rf = score_model(rf)\n",
        "\n",
        "m_lin, m_rf"
      ]
    },
    {
      "cell_type": "code",
      "execution_count": 7,
      "id": "adf150e6",
      "metadata": {
        "colab": {
          "base_uri": "https://localhost:8080/"
        },
        "id": "adf150e6",
        "outputId": "aaec4177-a98b-462e-d269-0a70d0991231"
      },
      "outputs": [
        {
          "output_type": "stream",
          "name": "stdout",
          "text": [
            "Saved:\n",
            " - artifacts/model.pkl\n",
            " - artifacts/metrics.json\n",
            "Best metrics: {'rmse': 68335691.59118266, 'mae': 68335691.59118266, 'r2': nan}\n"
          ]
        }
      ],
      "source": [
        "# ========== 6) Save best model + metrics to /artifacts ==========\n",
        "ART = Path(\"artifacts\"); ART.mkdir(exist_ok=True)\n",
        "\n",
        "best_model, best_metrics = (rf, m_rf) if m_rf[\"rmse\"] < m_lin[\"rmse\"] else (lin, m_lin)\n",
        "\n",
        "joblib.dump(best_model, ART/\"model.pkl\")\n",
        "with open(ART/\"metrics.json\",\"w\") as f:\n",
        "    json.dump(best_metrics, f, indent=2)\n",
        "\n",
        "print(\"Saved:\")\n",
        "print(\" - artifacts/model.pkl\")\n",
        "print(\" - artifacts/metrics.json\")\n",
        "print(\"Best metrics:\", best_metrics)"
      ]
    },
    {
      "cell_type": "code",
      "execution_count": null,
      "id": "c0ee82bc",
      "metadata": {
        "colab": {
          "base_uri": "https://localhost:8080/"
        },
        "id": "c0ee82bc",
        "outputId": "3649eeb6-2341-4438-a492-f0c32545f842"
      },
      "outputs": [
        {
          "output_type": "stream",
          "name": "stdout",
          "text": [
            "Artifacts on Drive: /content/drive/MyDrive/Movie_RevenueIT113/artifacts\n",
            "total 4.5K\n",
            "-rw------- 1 root root   72 Aug 18 07:05 metrics.json\n",
            "-rw------- 1 root root 3.7K Aug 18 07:05 model.pkl\n"
          ]
        }
      ],
      "source": [
        "\n",
        "\\# ========== 7) Copy artifacts back to Drive ==========\n",
        "drive_artifacts = f\"{DRIVE_PROJECT}/artifacts\"\n",
        "os.makedirs(drive_artifacts, exist_ok=True)\n",
        "\n",
        "shutil.copy(ART/\"model.pkl\", f\"{drive_artifacts}/model.pkl\")\n",
        "shutil.copy(ART/\"metrics.json\", f\"{drive_artifacts}/metrics.json\")\n",
        "\n",
        "print(\"Artifacts on Drive:\", drive_artifacts)\n",
        "!ls -lah \"$DRIVE_PROJECT/artifacts\" | sed -n '1,10p'"
      ]
    },
    {
      "cell_type": "markdown",
      "id": "e992aa23",
      "metadata": {
        "id": "e992aa23"
      },
      "source": [
        "---\n",
        "## Notes\n",
        "- Keep the **genre** and **company** options in your Streamlit app aligned with what appears in your training CSV, so OneHotEncoder doesn’t error on unseen categories.\n",
        "- To retrain: re-run the notebook; new metrics will overwrite the previous `artifacts/metrics.json`.\n",
        "- For deployment, put these in a GitHub repo and deploy via **Streamlit Cloud**:\n",
        "  - `app/streamlit_app.py`\n",
        "  - `artifacts/model.pkl`\n",
        "  - `artifacts/metrics.json`\n",
        "  - `requirements.txt`\n"
      ]
    }
  ],
  "metadata": {
    "colab": {
      "provenance": []
    },
    "language_info": {
      "name": "python"
    },
    "kernelspec": {
      "name": "python3",
      "display_name": "Python 3"
    }
  },
  "nbformat": 4,
  "nbformat_minor": 5
}